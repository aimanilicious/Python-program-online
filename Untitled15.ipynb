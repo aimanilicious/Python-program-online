{
 "cells": [
  {
   "cell_type": "code",
   "execution_count": 1,
   "id": "971b35f0",
   "metadata": {},
   "outputs": [
    {
     "name": "stdout",
     "output_type": "stream",
     "text": [
      "Twinkle,rwinkle, little star, \n",
      "        How i wonder what you are! \n",
      "               Up above thw world so high, \n",
      "               Like a diamond in the sky. \n",
      " Twinkle, twinkle, little star, \n",
      "        How i wonder what you are\n"
     ]
    }
   ],
   "source": [
    "#1\n",
    "print(\"Twinkle,rwinkle, little star, \\n        How i wonder what you are! \\n               Up above thw world so high, \\n               Like a diamond in the sky. \\n Twinkle, twinkle, little star, \\n        How i wonder what you are\")"
   ]
  },
  {
   "cell_type": "code",
   "execution_count": 2,
   "id": "d735acee",
   "metadata": {},
   "outputs": [
    {
     "name": "stdout",
     "output_type": "stream",
     "text": [
      "Python version 3.8.8 (default, Apr 13 2021, 15:08:03) [MSC v.1916 64 bit (AMD64)]\n"
     ]
    }
   ],
   "source": [
    "#2 Write a Python program to get the Python version you are using.\n",
    "import sys\n",
    "print(\"Python version\", sys.version)\n"
   ]
  },
  {
   "cell_type": "code",
   "execution_count": 3,
   "id": "2e4646f9",
   "metadata": {},
   "outputs": [
    {
     "name": "stdout",
     "output_type": "stream",
     "text": [
      "current date and time:\n",
      "2021-10-24 16:12:47\n"
     ]
    }
   ],
   "source": [
    "#3 Write a Python program to display the current date and time.\n",
    "import datetime\n",
    "now = datetime.datetime.now();\n",
    "print (\"current date and time:\");\n",
    "print (now. strftime(\"%Y-%m-%d %H:%M:%S\"))\n"
   ]
  },
  {
   "cell_type": "code",
   "execution_count": 4,
   "id": "d00e6a71",
   "metadata": {},
   "outputs": [
    {
     "name": "stdout",
     "output_type": "stream",
     "text": [
      "Enter radius of circle : 9\n",
      "Area of the circle is: 254.46900494077323\n"
     ]
    }
   ],
   "source": [
    "#4 Write a Python program which accepts the radius of a circle from the user and compute the area.\n",
    "from math import pi\n",
    "\n",
    "r = float(input (\"Enter radius of circle : \"))\n",
    "\n",
    "print (\"Area of the circle is: \" + str(pi * r**2))"
   ]
  },
  {
   "cell_type": "code",
   "execution_count": 7,
   "id": "2cdd7e7d",
   "metadata": {},
   "outputs": [
    {
     "name": "stdout",
     "output_type": "stream",
     "text": [
      "Umm e Aiman\n"
     ]
    }
   ],
   "source": [
    "#5 Write a Python program which accepts the user's first and last name and print them in reverse order with a space between them.\n",
    "x = \"Umm e\";\n",
    "y = \" Aiman\";\n",
    "print (x + y);"
   ]
  },
  {
   "cell_type": "code",
   "execution_count": 9,
   "id": "ef1e17ed",
   "metadata": {},
   "outputs": [
    {
     "name": "stdout",
     "output_type": "stream",
     "text": [
      "enter first number: 63\n",
      "enter second number: 45\n",
      "sum: 108\n"
     ]
    }
   ],
   "source": [
    "#6 Write a python program which takes two inputs from user and print them addition.\n",
    "a = int(input(\"enter first number: \"));\n",
    "b = int(input(\"enter second number: \"));\n",
    "sum = a + b;\n",
    "print(\"sum:\", sum);"
   ]
  },
  {
   "cell_type": "code",
   "execution_count": 10,
   "id": "f99c2cb3",
   "metadata": {},
   "outputs": [
    {
     "name": "stdout",
     "output_type": "stream",
     "text": [
      "Enter English Marks80\n",
      "Enter Urdu Marks86\n",
      "Enter Math Marks78\n",
      "Enter Statistics Marks94\n",
      "Enter Islamiat Marks90\n",
      "A+\n"
     ]
    }
   ],
   "source": [
    "#7 Write a program which takes 5 inputs from user for different subject’s marks, total it and generate mark sheet using grades?\n",
    "eng = int(input(\"Enter English Marks\"));\n",
    "urdu = int(input(\"Enter Urdu Marks\"));\n",
    "math = int(input(\"Enter Math Marks\"));\n",
    "statistics = int(input(\"Enter Statistics Marks\"));\n",
    "isl = int(input(\"Enter Islamiat Marks\"));\n",
    "total = 500;\n",
    "percent = (eng + urdu + math + statistics + isl)/total*100;\n",
    "if percent < 100 and percent >= 80:\n",
    "    print(\"A+\");\n",
    "elif percent < 80 and percent >= 70:\n",
    "    print(\"A\");\n",
    "elif percent < 70 and percent >= 60:\n",
    "    print(\"B\"); \n",
    "elif percent < 60 and percent >= 50:\n",
    "    print(\"C\");\n",
    "elif percent < 50 and percent >= 40:\n",
    "    print(\"D\");\n",
    "elif percent < 40 and percent >= 33:\n",
    "    print(\"E\"); \n",
    "elif percent < 0 and percent > 100:\n",
    "    print(\"you didnot write correct percent\");  \n",
    "else:\n",
    "    print(\"Fail\");"
   ]
  },
  {
   "cell_type": "code",
   "execution_count": 11,
   "id": "57b8e52a",
   "metadata": {},
   "outputs": [
    {
     "name": "stdout",
     "output_type": "stream",
     "text": [
      "Enter a number: 54\n",
      "54 is Even\n"
     ]
    }
   ],
   "source": [
    "#8 Write a program which take input from user and identify that the given number is even or odd?\n",
    "num = int(input(\"Enter a number: \"));\n",
    "if (num % 2) == 0:\n",
    "    print(\"{0} is Even\".format(num));\n",
    "else:\n",
    "    print(\"{0} is Odd\".format(num));"
   ]
  },
  {
   "cell_type": "code",
   "execution_count": 13,
   "id": "272d2b77",
   "metadata": {},
   "outputs": [
    {
     "name": "stdout",
     "output_type": "stream",
     "text": [
      "The length of string is: 9\n"
     ]
    }
   ],
   "source": [
    "#9 Write a program which print the length of the list?\n",
    "list = [1,1,4,8,9,45,57,69,90];\n",
    "print (\"The length of string is:\",len(list));"
   ]
  },
  {
   "cell_type": "code",
   "execution_count": 14,
   "id": "02348e75",
   "metadata": {},
   "outputs": [
    {
     "name": "stdout",
     "output_type": "stream",
     "text": [
      "176.5\n"
     ]
    }
   ],
   "source": [
    "#10 Write a Python program to sum all the numeric items in a list?\n",
    "x = 98;\n",
    "y = 46;\n",
    "z = 32.5;\n",
    "print ( x + y + z);"
   ]
  },
  {
   "cell_type": "code",
   "execution_count": 15,
   "id": "b91298e7",
   "metadata": {},
   "outputs": [
    {
     "name": "stdout",
     "output_type": "stream",
     "text": [
      "The largest number is 65\n"
     ]
    }
   ],
   "source": [
    "#11 Write a Python program to get the largest number from a numeric list.\n",
    "num1 = 65;\n",
    "num2 = 22;\n",
    "num3 = 12;\n",
    "if (num1 >= num2) and (num1 >= num3):\n",
    "    largest = num1\n",
    "elif (num2 >= num1) and (num2 >= num3):\n",
    "    largest = num2\n",
    "else:\n",
    "    largest = num3\n",
    "\n",
    "print(\"The largest number is\", largest);"
   ]
  },
  {
   "cell_type": "code",
   "execution_count": 16,
   "id": "588d3dc9",
   "metadata": {},
   "outputs": [
    {
     "name": "stdout",
     "output_type": "stream",
     "text": [
      "1\n",
      "1\n",
      "2\n",
      "3\n"
     ]
    }
   ],
   "source": [
    "#12 Write a program that prints out all the elements of the list that are less than 5.\n",
    "a = [1, 1, 2, 3, 5, 8, 13, 21, 34, 55, 89]\n",
    "\n",
    "for i in a:\n",
    "\n",
    "    if i < 5:\n",
    "\n",
    "        print(i)"
   ]
  },
  {
   "cell_type": "code",
   "execution_count": null,
   "id": "3d55bba1",
   "metadata": {},
   "outputs": [],
   "source": []
  }
 ],
 "metadata": {
  "kernelspec": {
   "display_name": "Python 3",
   "language": "python",
   "name": "python3"
  },
  "language_info": {
   "codemirror_mode": {
    "name": "ipython",
    "version": 3
   },
   "file_extension": ".py",
   "mimetype": "text/x-python",
   "name": "python",
   "nbconvert_exporter": "python",
   "pygments_lexer": "ipython3",
   "version": "3.8.8"
  }
 },
 "nbformat": 4,
 "nbformat_minor": 5
}
